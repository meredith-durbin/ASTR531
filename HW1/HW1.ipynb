{
 "cells": [
  {
   "cell_type": "code",
   "execution_count": 1,
   "metadata": {},
   "outputs": [],
   "source": [
    "%matplotlib inline\n",
    "%config InlineBackend.figure_format='retina'\n",
    "\n",
    "import astropy.units as u\n",
    "import astropy.constants as const\n",
    "import numpy as np\n",
    "\n",
    "from astropy.coordinates import Distance\n",
    "import seaborn as sns\n",
    "sns.set(style='white', font_scale=1.2)"
   ]
  },
  {
   "cell_type": "code",
   "execution_count": 2,
   "metadata": {},
   "outputs": [
    {
     "data": {
      "text/latex": [
       "$5.7933599 \\; \\mathrm{mag}$"
      ],
      "text/plain": [
       "<Quantity 5.79335991 mag>"
      ]
     },
     "execution_count": 2,
     "metadata": {},
     "output_type": "execute_result"
    }
   ],
   "source": [
    "dist = Distance(value=470*u.lightyear)\n",
    "dist.distmod"
   ]
  },
  {
   "cell_type": "code",
   "execution_count": 3,
   "metadata": {},
   "outputs": [
    {
     "data": {
      "text/latex": [
       "$-2.9933599 \\; \\mathrm{mag}$"
      ],
      "text/plain": [
       "<Quantity -2.99335991 mag>"
      ]
     },
     "execution_count": 3,
     "metadata": {},
     "output_type": "execute_result"
    }
   ],
   "source": [
    "mv = 2.8 * u.mag\n",
    "Mv = mv - dist.distmod\n",
    "Mv"
   ]
  },
  {
   "cell_type": "code",
   "execution_count": 4,
   "metadata": {},
   "outputs": [
    {
     "data": {
      "text/latex": [
       "$-6.1533599 \\; \\mathrm{mag}$"
      ],
      "text/plain": [
       "<Quantity -6.15335991 mag>"
      ]
     },
     "execution_count": 4,
     "metadata": {},
     "output_type": "execute_result"
    }
   ],
   "source": [
    "Mbol = Mv - 3.16*u.mag\n",
    "Mbol"
   ]
  },
  {
   "cell_type": "code",
   "execution_count": 5,
   "metadata": {},
   "outputs": [
    {
     "data": {
      "text/latex": [
       "$22769 \\; \\mathrm{L_{\\odot}}$"
      ],
      "text/plain": [
       "<Quantity 22769.00043849 solLum>"
      ]
     },
     "execution_count": 5,
     "metadata": {},
     "output_type": "execute_result"
    }
   ],
   "source": [
    "L = 10**((Mbol.value - 4.74)/-2.5) * u.solLum\n",
    "L"
   ]
  },
  {
   "cell_type": "code",
   "execution_count": 6,
   "metadata": {},
   "outputs": [
    {
     "data": {
      "text/latex": [
       "$5.5857683 \\; \\mathrm{R_{\\odot}}$"
      ],
      "text/plain": [
       "<Quantity 5.58576832 solRad>"
      ]
     },
     "execution_count": 6,
     "metadata": {},
     "output_type": "execute_result"
    }
   ],
   "source": [
    "Teff = 3e4 * u.K\n",
    "R = np.sqrt(L/(4*np.pi*const.sigma_sb * Teff**4)).to(u.solRad)\n",
    "R"
   ]
  },
  {
   "cell_type": "code",
   "execution_count": 7,
   "metadata": {},
   "outputs": [
    {
     "data": {
      "text/latex": [
       "$15.65466 \\; \\mathrm{M_{\\odot}}$"
      ],
      "text/plain": [
       "<Quantity 15.65465966 solMass>"
      ]
     },
     "execution_count": 7,
     "metadata": {},
     "output_type": "execute_result"
    }
   ],
   "source": [
    "M = (L.value / 1.5)**(1/3.5) * u.solMass\n",
    "M"
   ]
  },
  {
   "cell_type": "code",
   "execution_count": 8,
   "metadata": {},
   "outputs": [
    {
     "data": {
      "text/latex": [
       "$13757.687 \\; \\mathrm{\\frac{cm}{s^{2}}}$"
      ],
      "text/plain": [
       "<Quantity 13757.68689006 cm / s2>"
      ]
     },
     "execution_count": 8,
     "metadata": {},
     "output_type": "execute_result"
    }
   ],
   "source": [
    "g = const.G * M / R**2\n",
    "g.cgs"
   ]
  },
  {
   "cell_type": "code",
   "execution_count": 9,
   "metadata": {},
   "outputs": [
    {
     "data": {
      "text/plain": [
       "4.138545421157457"
      ]
     },
     "execution_count": 9,
     "metadata": {},
     "output_type": "execute_result"
    }
   ],
   "source": [
    "np.log10(g.cgs.value)"
   ]
  },
  {
   "cell_type": "code",
   "execution_count": 10,
   "metadata": {},
   "outputs": [
    {
     "data": {
      "text/latex": [
       "$1.0340467 \\times 10^{8} \\; \\mathrm{\\frac{cm}{s}}$"
      ],
      "text/plain": [
       "<Quantity 1.03404674e+08 cm / s>"
      ]
     },
     "execution_count": 10,
     "metadata": {},
     "output_type": "execute_result"
    }
   ],
   "source": [
    "vesc = np.sqrt(2*const.G*M/R)\n",
    "vesc.cgs"
   ]
  },
  {
   "cell_type": "code",
   "execution_count": 11,
   "metadata": {},
   "outputs": [
    {
     "data": {
      "text/latex": [
       "$0.12663696 \\; \\mathrm{\\frac{g}{cm^{3}}}$"
      ],
      "text/plain": [
       "<Quantity 0.12663696 g / cm3>"
      ]
     },
     "execution_count": 11,
     "metadata": {},
     "output_type": "execute_result"
    }
   ],
   "source": [
    "rho = M/(4/3 * np.pi * R**3)\n",
    "rho.cgs"
   ]
  },
  {
   "cell_type": "code",
   "execution_count": 13,
   "metadata": {},
   "outputs": [
    {
     "data": {
      "text/latex": [
       "$0.50173892 \\; \\mathrm{}$"
      ],
      "text/plain": [
       "<Quantity 0.50173892>"
      ]
     },
     "execution_count": 13,
     "metadata": {},
     "output_type": "execute_result"
    }
   ],
   "source": [
    "g_sol = const.G * u.solMass / (u.solRad**2)\n",
    "g.cgs / g_sol.cgs"
   ]
  },
  {
   "cell_type": "code",
   "execution_count": 14,
   "metadata": {},
   "outputs": [
    {
     "data": {
      "text/latex": [
       "$1.674096 \\; \\mathrm{}$"
      ],
      "text/plain": [
       "<Quantity 1.67409599>"
      ]
     },
     "execution_count": 14,
     "metadata": {},
     "output_type": "execute_result"
    }
   ],
   "source": [
    "vesc_sol = np.sqrt(2*const.G*u.solMass/u.solRad)\n",
    "vesc.cgs / vesc_sol.cgs"
   ]
  },
  {
   "cell_type": "code",
   "execution_count": 15,
   "metadata": {},
   "outputs": [
    {
     "data": {
      "text/latex": [
       "$0.089824514 \\; \\mathrm{}$"
      ],
      "text/plain": [
       "<Quantity 0.08982451>"
      ]
     },
     "execution_count": 15,
     "metadata": {},
     "output_type": "execute_result"
    }
   ],
   "source": [
    "rho_sol = u.solMass/(4/3 * np.pi * u.solRad**3)\n",
    "rho.cgs / rho_sol.cgs"
   ]
  },
  {
   "cell_type": "code",
   "execution_count": null,
   "metadata": {},
   "outputs": [],
   "source": []
  }
 ],
 "metadata": {
  "kernelspec": {
   "display_name": "Python [conda env:astroconda]",
   "language": "python",
   "name": "conda-env-astroconda-py"
  },
  "language_info": {
   "codemirror_mode": {
    "name": "ipython",
    "version": 3
   },
   "file_extension": ".py",
   "mimetype": "text/x-python",
   "name": "python",
   "nbconvert_exporter": "python",
   "pygments_lexer": "ipython3",
   "version": "3.5.5"
  }
 },
 "nbformat": 4,
 "nbformat_minor": 2
}
