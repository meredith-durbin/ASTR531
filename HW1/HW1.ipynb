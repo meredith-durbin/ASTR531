{
 "cells": [
  {
   "cell_type": "code",
   "execution_count": 1,
   "metadata": {},
   "outputs": [],
   "source": [
    "%matplotlib inline\n",
    "%config InlineBackend.figure_format='retina'\n",
    "\n",
    "from astropy.coordinates import Distance\n",
    "from scipy.optimize import leastsq\n",
    "\n",
    "import astropy.units as u\n",
    "import astropy.constants as const\n",
    "import numpy as np\n",
    "import pandas as pd\n",
    "import seaborn as sns\n",
    "sns.set(font_scale=1.2)"
   ]
  },
  {
   "cell_type": "markdown",
   "metadata": {},
   "source": [
    "### 2.3"
   ]
  },
  {
   "cell_type": "code",
   "execution_count": 2,
   "metadata": {},
   "outputs": [
    {
     "data": {
      "text/latex": [
       "$5.7933599 \\; \\mathrm{mag}$"
      ],
      "text/plain": [
       "<Quantity 5.79335991 mag>"
      ]
     },
     "execution_count": 2,
     "metadata": {},
     "output_type": "execute_result"
    }
   ],
   "source": [
    "dist = Distance(value=470*u.lightyear)\n",
    "dist.distmod"
   ]
  },
  {
   "cell_type": "code",
   "execution_count": 3,
   "metadata": {},
   "outputs": [
    {
     "data": {
      "text/latex": [
       "$-2.9933599 \\; \\mathrm{mag}$"
      ],
      "text/plain": [
       "<Quantity -2.99335991 mag>"
      ]
     },
     "execution_count": 3,
     "metadata": {},
     "output_type": "execute_result"
    }
   ],
   "source": [
    "mv = 2.8 * u.mag\n",
    "Mv = mv - dist.distmod\n",
    "Mv"
   ]
  },
  {
   "cell_type": "code",
   "execution_count": 4,
   "metadata": {},
   "outputs": [
    {
     "data": {
      "text/latex": [
       "$-6.1533599 \\; \\mathrm{mag}$"
      ],
      "text/plain": [
       "<Quantity -6.15335991 mag>"
      ]
     },
     "execution_count": 4,
     "metadata": {},
     "output_type": "execute_result"
    }
   ],
   "source": [
    "Mbol = Mv - 3.16*u.mag\n",
    "Mbol"
   ]
  },
  {
   "cell_type": "code",
   "execution_count": 5,
   "metadata": {},
   "outputs": [
    {
     "data": {
      "text/latex": [
       "$22769 \\; \\mathrm{L_{\\odot}}$"
      ],
      "text/plain": [
       "<Quantity 22769.00043849 solLum>"
      ]
     },
     "execution_count": 5,
     "metadata": {},
     "output_type": "execute_result"
    }
   ],
   "source": [
    "L = 10**((Mbol.value - 4.74)/-2.5) * u.solLum\n",
    "L"
   ]
  },
  {
   "cell_type": "code",
   "execution_count": 6,
   "metadata": {},
   "outputs": [
    {
     "data": {
      "text/latex": [
       "$5.5857683 \\; \\mathrm{R_{\\odot}}$"
      ],
      "text/plain": [
       "<Quantity 5.58576832 solRad>"
      ]
     },
     "execution_count": 6,
     "metadata": {},
     "output_type": "execute_result"
    }
   ],
   "source": [
    "Teff = 3e4 * u.K\n",
    "R = np.sqrt(L/(4*np.pi*const.sigma_sb * Teff**4)).to(u.solRad)\n",
    "R"
   ]
  },
  {
   "cell_type": "code",
   "execution_count": 7,
   "metadata": {},
   "outputs": [
    {
     "data": {
      "text/latex": [
       "$13.502088 \\; \\mathrm{M_{\\odot}}$"
      ],
      "text/plain": [
       "<Quantity 13.50208811 solMass>"
      ]
     },
     "execution_count": 7,
     "metadata": {},
     "output_type": "execute_result"
    }
   ],
   "source": [
    "M = (L.value / 12)**(1/2.9) * u.solMass\n",
    "M"
   ]
  },
  {
   "cell_type": "code",
   "execution_count": 8,
   "metadata": {},
   "outputs": [
    {
     "data": {
      "text/latex": [
       "$11865.956 \\; \\mathrm{\\frac{cm}{s^{2}}}$"
      ],
      "text/plain": [
       "<Quantity 11865.95586017 cm / s2>"
      ]
     },
     "execution_count": 8,
     "metadata": {},
     "output_type": "execute_result"
    }
   ],
   "source": [
    "g = const.G * M / R**2\n",
    "g.cgs"
   ]
  },
  {
   "cell_type": "code",
   "execution_count": 9,
   "metadata": {},
   "outputs": [
    {
     "data": {
      "text/plain": [
       "4.0743027284846445"
      ]
     },
     "execution_count": 9,
     "metadata": {},
     "output_type": "execute_result"
    }
   ],
   "source": [
    "np.log10(g.cgs.value)"
   ]
  },
  {
   "cell_type": "code",
   "execution_count": 10,
   "metadata": {},
   "outputs": [
    {
     "data": {
      "text/latex": [
       "$96032630 \\; \\mathrm{\\frac{cm}{s}}$"
      ],
      "text/plain": [
       "<Quantity 96032630.01031251 cm / s>"
      ]
     },
     "execution_count": 10,
     "metadata": {},
     "output_type": "execute_result"
    }
   ],
   "source": [
    "vesc = np.sqrt(2*const.G*M/R)\n",
    "vesc.cgs"
   ]
  },
  {
   "cell_type": "code",
   "execution_count": 11,
   "metadata": {},
   "outputs": [
    {
     "data": {
      "text/latex": [
       "$0.10922393 \\; \\mathrm{\\frac{g}{cm^{3}}}$"
      ],
      "text/plain": [
       "<Quantity 0.10922393 g / cm3>"
      ]
     },
     "execution_count": 11,
     "metadata": {},
     "output_type": "execute_result"
    }
   ],
   "source": [
    "rho = M/(4/3 * np.pi * R**3)\n",
    "rho.cgs"
   ]
  },
  {
   "cell_type": "code",
   "execution_count": 12,
   "metadata": {},
   "outputs": [
    {
     "data": {
      "text/latex": [
       "$0.43274803 \\; \\mathrm{}$"
      ],
      "text/plain": [
       "<Quantity 0.43274803>"
      ]
     },
     "execution_count": 12,
     "metadata": {},
     "output_type": "execute_result"
    }
   ],
   "source": [
    "g_sol = const.G * u.solMass / (u.solRad**2)\n",
    "g.cgs / g_sol.cgs"
   ]
  },
  {
   "cell_type": "code",
   "execution_count": 13,
   "metadata": {},
   "outputs": [
    {
     "data": {
      "text/latex": [
       "$1.5547444 \\; \\mathrm{}$"
      ],
      "text/plain": [
       "<Quantity 1.55474443>"
      ]
     },
     "execution_count": 13,
     "metadata": {},
     "output_type": "execute_result"
    }
   ],
   "source": [
    "vesc_sol = np.sqrt(2*const.G*u.solMass/u.solRad)\n",
    "vesc.cgs / vesc_sol.cgs"
   ]
  },
  {
   "cell_type": "code",
   "execution_count": 14,
   "metadata": {},
   "outputs": [
    {
     "data": {
      "text/latex": [
       "$0.077473323 \\; \\mathrm{}$"
      ],
      "text/plain": [
       "<Quantity 0.07747332>"
      ]
     },
     "execution_count": 14,
     "metadata": {},
     "output_type": "execute_result"
    }
   ],
   "source": [
    "rho_sol = u.solMass/(4/3 * np.pi * u.solRad**3)\n",
    "rho.cgs / rho_sol.cgs"
   ]
  },
  {
   "cell_type": "markdown",
   "metadata": {},
   "source": [
    "### 4.3"
   ]
  },
  {
   "cell_type": "code",
   "execution_count": 15,
   "metadata": {},
   "outputs": [],
   "source": [
    "df = pd.read_csv('http://www.ap.smu.ca/~guenther/evolution/ssmyz47_0200.txt',\n",
    "                 delim_whitespace=True, skiprows=24,\n",
    "                 names=['SHELL','Radius Frac','Mass Frac',\n",
    "                        'Radius','Mass','Luminosity',\n",
    "                        'Temperature [K]','Density [g/cm3]'])[::5]\n",
    "                 #names=['R','M','L','logT [K]','logP []','logRho','mu','dTdR','dTdR_ad','equil'])[::5]"
   ]
  },
  {
   "cell_type": "code",
   "execution_count": 16,
   "metadata": {},
   "outputs": [
    {
     "data": {
      "image/png": "[encoded data removed]",
      "text/plain": [
       "<Figure size 432x288 with 1 Axes>"
      ]
     },
     "metadata": {
      "image/png": {
       "height": 276,
       "width": 422
      }
     },
     "output_type": "display_data"
    }
   ],
   "source": [
    "ax = df.plot('Density [g/cm3]','Temperature [K]')\n",
    "ax.set_xscale('log')\n",
    "ax.set_yscale('log')\n",
    "ax.invert_xaxis()\n",
    "ax.legend_.remove()\n",
    "ax.set_ylabel('Temperature [K]')\n",
    "sns.mpl.pyplot.tight_layout()\n",
    "sns.mpl.pyplot.savefig('temp_density.jpg', dpi=144)"
   ]
  },
  {
   "cell_type": "markdown",
   "metadata": {},
   "source": [
    "### 5.2"
   ]
  },
  {
   "cell_type": "code",
   "execution_count": 17,
   "metadata": {},
   "outputs": [
    {
     "data": {
      "text/latex": [
       "$\\mathrm{4.8399849 \\times 10^{21}\\,}$"
      ],
      "text/plain": [
       "Unit(dimensionless with a scale of 4.8399849e+21)"
      ]
     },
     "execution_count": 17,
     "metadata": {},
     "output_type": "execute_result"
    }
   ],
   "source": [
    "N = (u.solRad / u.cm)**2\n",
    "N.decompose()"
   ]
  },
  {
   "cell_type": "code",
   "execution_count": 18,
   "metadata": {},
   "outputs": [
    {
     "data": {
      "text/latex": [
       "$5115.8681 \\; \\mathrm{yr}$"
      ],
      "text/plain": [
       "<Quantity 5115.86807597 yr>"
      ]
     },
     "execution_count": 18,
     "metadata": {},
     "output_type": "execute_result"
    }
   ],
   "source": [
    "path_length = N.decompose() * u.cm\n",
    "(path_length / const.c).decompose().to(u.year)"
   ]
  },
  {
   "cell_type": "markdown",
   "metadata": {},
   "source": [
    "### 6.2"
   ]
  },
  {
   "cell_type": "code",
   "execution_count": 19,
   "metadata": {},
   "outputs": [
    {
     "name": "stdout",
     "output_type": "stream",
     "text": [
      "106.01394036620934 2.0666872891409267\n"
     ]
    },
    {
     "data": {
      "image/png": "[encoded data removed]",
      "text/plain": [
       "<Figure size 432x288 with 1 Axes>"
      ]
     },
     "metadata": {
      "image/png": {
       "height": 280,
       "width": 422
      }
     },
     "output_type": "display_data"
    }
   ],
   "source": [
    "# mass-luminosity relation for ZAMS stars 30-60 solmass\n",
    "masses = np.array([32,40,60])\n",
    "logL = np.array([5.13,5.34,5.7])\n",
    "\n",
    "errfunc = lambda p, x, y: y - p[0]*x**p[1] \n",
    "p0 = [12, 2.9] \n",
    "(coeff, exp), success = leastsq(errfunc, p0, args=(masses, 10**logL))\n",
    "print(coeff, exp)\n",
    "\n",
    "x = np.linspace(32,60,100)\n",
    "fig, ax = sns.mpl.pyplot.subplots()\n",
    "ax.plot(masses, logL, 'o', label='Appendix D values')\n",
    "ax.plot(x, np.log10(coeff*(x**exp)), label='Best fit power law')\n",
    "ax.legend()\n",
    "ax.set_xlabel('M/M$_\\odot$')\n",
    "ax.set_ylabel('log L/L$_\\odot$')\n",
    "sns.mpl.pyplot.tight_layout()\n",
    "sns.mpl.pyplot.savefig('powerlaw.jpg', dpi=144)"
   ]
  },
  {
   "cell_type": "code",
   "execution_count": 20,
   "metadata": {},
   "outputs": [
    {
     "data": {
      "text/plain": [
       "(<Quantity 69.57004588 solMass>, <Quantity 2643661.74348457 solLum>)"
      ]
     },
     "execution_count": 20,
     "metadata": {},
     "output_type": "execute_result"
    }
   ],
   "source": [
    "def calc_eddington(coeff, exp):\n",
    "    Mmax = (3.8e4 / coeff)**(1/(exp - 1)) * u.solMass\n",
    "    Lmax = 3.8e4 * (Mmax/u.solMass) * u.solLum\n",
    "    return Mmax, Lmax\n",
    "\n",
    "# check that it works for empirical ML relation\n",
    "calc_eddington(*p0)"
   ]
  },
  {
   "cell_type": "code",
   "execution_count": 21,
   "metadata": {},
   "outputs": [
    {
     "data": {
      "text/plain": [
       "(<Quantity 248.15500138 solMass>, <Quantity 9429890.05243432 solLum>)"
      ]
     },
     "execution_count": 21,
     "metadata": {},
     "output_type": "execute_result"
    }
   ],
   "source": [
    "calc_eddington(coeff, exp)"
   ]
  },
  {
   "cell_type": "markdown",
   "metadata": {},
   "source": [
    "### 7.2"
   ]
  },
  {
   "cell_type": "code",
   "execution_count": 22,
   "metadata": {},
   "outputs": [
    {
     "data": {
      "text/latex": [
       "$4.4175734 \\times 10^{8} \\; \\mathrm{yr}$"
      ],
      "text/plain": [
       "<Quantity 4.41757341e+08 yr>"
      ]
     },
     "execution_count": 22,
     "metadata": {},
     "output_type": "execute_result"
    }
   ],
   "source": [
    "def calc_mslifetime(log_Lstar, M_core):\n",
    "    Lstar = 10**log_Lstar * u.solLum\n",
    "    E_tot = 0.007 * M_core*u.solMass * const.c**2\n",
    "    return (E_tot/Lstar).to(u.year)\n",
    "\n",
    "# 4 solar mass star\n",
    "calc_mslifetime(2.37, 1)"
   ]
  },
  {
   "cell_type": "code",
   "execution_count": 23,
   "metadata": {},
   "outputs": [
    {
     "data": {
      "text/latex": [
       "$25420482 \\; \\mathrm{yr}$"
      ],
      "text/plain": [
       "<Quantity 25420481.68459756 yr>"
      ]
     },
     "execution_count": 23,
     "metadata": {},
     "output_type": "execute_result"
    }
   ],
   "source": [
    "# 20 solar mass star\n",
    "calc_mslifetime(4.61, 10)"
   ]
  },
  {
   "cell_type": "code",
   "execution_count": 24,
   "metadata": {},
   "outputs": [
    {
     "data": {
      "text/plain": [
       "('1.514e+08', '7.762e+06')"
      ]
     },
     "execution_count": 24,
     "metadata": {},
     "output_type": "execute_result"
    }
   ],
   "source": [
    "'{:.3e}'.format(10**8.18), '{:.3e}'.format(10**6.89)"
   ]
  },
  {
   "cell_type": "code",
   "execution_count": null,
   "metadata": {},
   "outputs": [],
   "source": []
  }
 ],
 "metadata": {
  "kernelspec": {
   "display_name": "Python [conda env:astroconda]",
   "language": "python",
   "name": "conda-env-astroconda-py"
  },
  "language_info": {
   "codemirror_mode": {
    "name": "ipython",
    "version": 3
   },
   "file_extension": ".py",
   "mimetype": "text/x-python",
   "name": "python",
   "nbconvert_exporter": "python",
   "pygments_lexer": "ipython3",
   "version": "3.5.5"
  }
 },
 "nbformat": 4,
 "nbformat_minor": 2
}
