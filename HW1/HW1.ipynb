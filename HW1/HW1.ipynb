{
 "cells": [
  {
   "cell_type": "code",
   "execution_count": 1,
   "metadata": {},
   "outputs": [],
   "source": [
    "%matplotlib inline\n",
    "%config InlineBackend.figure_format='retina'\n",
    "\n",
    "import astropy.units as u\n",
    "import astropy.constants as const\n",
    "from astropy.coordinates import Distance\n",
    "import numpy as np"
   ]
  },
  {
   "cell_type": "markdown",
   "metadata": {},
   "source": [
    "### 2.3"
   ]
  },
  {
   "cell_type": "code",
   "execution_count": 2,
   "metadata": {},
   "outputs": [
    {
     "data": {
      "text/latex": [
       "$5.7933599 \\; \\mathrm{mag}$"
      ],
      "text/plain": [
       "<Quantity 5.79335991 mag>"
      ]
     },
     "execution_count": 2,
     "metadata": {},
     "output_type": "execute_result"
    }
   ],
   "source": [
    "dist = Distance(value=470*u.lightyear)\n",
    "dist.distmod"
   ]
  },
  {
   "cell_type": "code",
   "execution_count": 3,
   "metadata": {},
   "outputs": [
    {
     "data": {
      "text/latex": [
       "$-2.9933599 \\; \\mathrm{mag}$"
      ],
      "text/plain": [
       "<Quantity -2.99335991 mag>"
      ]
     },
     "execution_count": 3,
     "metadata": {},
     "output_type": "execute_result"
    }
   ],
   "source": [
    "mv = 2.8 * u.mag\n",
    "Mv = mv - dist.distmod\n",
    "Mv"
   ]
  },
  {
   "cell_type": "code",
   "execution_count": 4,
   "metadata": {},
   "outputs": [
    {
     "data": {
      "text/latex": [
       "$-6.1533599 \\; \\mathrm{mag}$"
      ],
      "text/plain": [
       "<Quantity -6.15335991 mag>"
      ]
     },
     "execution_count": 4,
     "metadata": {},
     "output_type": "execute_result"
    }
   ],
   "source": [
    "Mbol = Mv - 3.16*u.mag\n",
    "Mbol"
   ]
  },
  {
   "cell_type": "code",
   "execution_count": 5,
   "metadata": {},
   "outputs": [
    {
     "data": {
      "text/latex": [
       "$22769 \\; \\mathrm{L_{\\odot}}$"
      ],
      "text/plain": [
       "<Quantity 22769.00043849 solLum>"
      ]
     },
     "execution_count": 5,
     "metadata": {},
     "output_type": "execute_result"
    }
   ],
   "source": [
    "L = 10**((Mbol.value - 4.74)/-2.5) * u.solLum\n",
    "L"
   ]
  },
  {
   "cell_type": "code",
   "execution_count": 6,
   "metadata": {},
   "outputs": [
    {
     "data": {
      "text/latex": [
       "$5.5857683 \\; \\mathrm{R_{\\odot}}$"
      ],
      "text/plain": [
       "<Quantity 5.58576832 solRad>"
      ]
     },
     "execution_count": 6,
     "metadata": {},
     "output_type": "execute_result"
    }
   ],
   "source": [
    "Teff = 3e4 * u.K\n",
    "R = np.sqrt(L/(4*np.pi*const.sigma_sb * Teff**4)).to(u.solRad)\n",
    "R"
   ]
  },
  {
   "cell_type": "code",
   "execution_count": 7,
   "metadata": {},
   "outputs": [
    {
     "data": {
      "text/latex": [
       "$15.65466 \\; \\mathrm{M_{\\odot}}$"
      ],
      "text/plain": [
       "<Quantity 15.65465966 solMass>"
      ]
     },
     "execution_count": 7,
     "metadata": {},
     "output_type": "execute_result"
    }
   ],
   "source": [
    "M = (L.value / 1.5)**(1/3.5) * u.solMass\n",
    "M"
   ]
  },
  {
   "cell_type": "code",
   "execution_count": 8,
   "metadata": {},
   "outputs": [
    {
     "data": {
      "text/latex": [
       "$13757.687 \\; \\mathrm{\\frac{cm}{s^{2}}}$"
      ],
      "text/plain": [
       "<Quantity 13757.68689006 cm / s2>"
      ]
     },
     "execution_count": 8,
     "metadata": {},
     "output_type": "execute_result"
    }
   ],
   "source": [
    "g = const.G * M / R**2\n",
    "g.cgs"
   ]
  },
  {
   "cell_type": "code",
   "execution_count": 9,
   "metadata": {},
   "outputs": [
    {
     "data": {
      "text/plain": [
       "4.138545421157457"
      ]
     },
     "execution_count": 9,
     "metadata": {},
     "output_type": "execute_result"
    }
   ],
   "source": [
    "np.log10(g.cgs.value)"
   ]
  },
  {
   "cell_type": "code",
   "execution_count": 10,
   "metadata": {},
   "outputs": [
    {
     "data": {
      "text/latex": [
       "$1.0340467 \\times 10^{8} \\; \\mathrm{\\frac{cm}{s}}$"
      ],
      "text/plain": [
       "<Quantity 1.03404674e+08 cm / s>"
      ]
     },
     "execution_count": 10,
     "metadata": {},
     "output_type": "execute_result"
    }
   ],
   "source": [
    "vesc = np.sqrt(2*const.G*M/R)\n",
    "vesc.cgs"
   ]
  },
  {
   "cell_type": "code",
   "execution_count": 11,
   "metadata": {},
   "outputs": [
    {
     "data": {
      "text/latex": [
       "$0.12663696 \\; \\mathrm{\\frac{g}{cm^{3}}}$"
      ],
      "text/plain": [
       "<Quantity 0.12663696 g / cm3>"
      ]
     },
     "execution_count": 11,
     "metadata": {},
     "output_type": "execute_result"
    }
   ],
   "source": [
    "rho = M/(4/3 * np.pi * R**3)\n",
    "rho.cgs"
   ]
  },
  {
   "cell_type": "code",
   "execution_count": 13,
   "metadata": {},
   "outputs": [
    {
     "data": {
      "text/latex": [
       "$0.50173892 \\; \\mathrm{}$"
      ],
      "text/plain": [
       "<Quantity 0.50173892>"
      ]
     },
     "execution_count": 13,
     "metadata": {},
     "output_type": "execute_result"
    }
   ],
   "source": [
    "g_sol = const.G * u.solMass / (u.solRad**2)\n",
    "g.cgs / g_sol.cgs"
   ]
  },
  {
   "cell_type": "code",
   "execution_count": 14,
   "metadata": {},
   "outputs": [
    {
     "data": {
      "text/latex": [
       "$1.674096 \\; \\mathrm{}$"
      ],
      "text/plain": [
       "<Quantity 1.67409599>"
      ]
     },
     "execution_count": 14,
     "metadata": {},
     "output_type": "execute_result"
    }
   ],
   "source": [
    "vesc_sol = np.sqrt(2*const.G*u.solMass/u.solRad)\n",
    "vesc.cgs / vesc_sol.cgs"
   ]
  },
  {
   "cell_type": "code",
   "execution_count": 15,
   "metadata": {},
   "outputs": [
    {
     "data": {
      "text/latex": [
       "$0.089824514 \\; \\mathrm{}$"
      ],
      "text/plain": [
       "<Quantity 0.08982451>"
      ]
     },
     "execution_count": 15,
     "metadata": {},
     "output_type": "execute_result"
    }
   ],
   "source": [
    "rho_sol = u.solMass/(4/3 * np.pi * u.solRad**3)\n",
    "rho.cgs / rho_sol.cgs"
   ]
  },
  {
   "cell_type": "markdown",
   "metadata": {},
   "source": [
    "### 4.3"
   ]
  },
  {
   "cell_type": "code",
   "execution_count": 43,
   "metadata": {},
   "outputs": [],
   "source": [
    "import pandas as pd\n",
    "import seaborn as sns\n",
    "sns.set(font_scale=1.2)"
   ]
  },
  {
   "cell_type": "code",
   "execution_count": 44,
   "metadata": {},
   "outputs": [],
   "source": [
    "df = pd.read_csv('http://www.ap.smu.ca/~guenther/evolution/ssmyz47_0200.txt',\n",
    "                 delim_whitespace=True, skiprows=24,\n",
    "                 names=['SHELL','Radius Frac','Mass Frac',\n",
    "                        'Radius','Mass','Luminosity',\n",
    "                        'Temperature [K]','Density [g/cm3]'])[::5]\n",
    "                 #names=['R','M','L','logT [K]','logP []','logRho','mu','dTdR','dTdR_ad','equil'])[::5]"
   ]
  },
  {
   "cell_type": "code",
   "execution_count": 50,
   "metadata": {},
   "outputs": [
    {
     "data": {
      "image/png": "[encoded data removed]",
      "text/plain": [
       "<Figure size 432x288 with 1 Axes>"
      ]
     },
     "metadata": {
      "image/png": {
       "height": 266,
       "width": 413
      }
     },
     "output_type": "display_data"
    }
   ],
   "source": [
    "ax = df.plot('Density [g/cm3]','Temperature [K]')\n",
    "ax.set_xscale('log')\n",
    "ax.set_yscale('log')\n",
    "ax.invert_xaxis()\n",
    "ax.legend_.remove()\n",
    "ax.set_ylabel('Temperature [K]')\n",
    "sns.mpl.pyplot.tight_layout()\n",
    "sns.mpl.pyplot.savefig('HW1/temp_density.jpg', dpi=144)"
   ]
  },
  {
   "cell_type": "markdown",
   "metadata": {},
   "source": [
    "### 5.2"
   ]
  },
  {
   "cell_type": "code",
   "execution_count": 51,
   "metadata": {},
   "outputs": [
    {
     "data": {
      "text/latex": [
       "$\\mathrm{4.8399849 \\times 10^{21}\\,}$"
      ],
      "text/plain": [
       "Unit(dimensionless with a scale of 4.8399849e+21)"
      ]
     },
     "execution_count": 51,
     "metadata": {},
     "output_type": "execute_result"
    }
   ],
   "source": [
    "N = (u.solRad / u.cm)**2\n",
    "N.decompose()"
   ]
  },
  {
   "cell_type": "code",
   "execution_count": 63,
   "metadata": {},
   "outputs": [
    {
     "data": {
      "text/latex": [
       "$5115.8681 \\; \\mathrm{yr}$"
      ],
      "text/plain": [
       "<Quantity 5115.86807597 yr>"
      ]
     },
     "execution_count": 63,
     "metadata": {},
     "output_type": "execute_result"
    }
   ],
   "source": [
    "path = N.decompose() * u.cm\n",
    "(path / const.c).decompose().to(u.year)"
   ]
  },
  {
   "cell_type": "markdown",
   "metadata": {},
   "source": [
    "### 7.2"
   ]
  },
  {
   "cell_type": "code",
   "execution_count": 72,
   "metadata": {},
   "outputs": [
    {
     "data": {
      "text/latex": [
       "$1.3940801 \\times 10^{16} \\; \\mathrm{s}$"
      ],
      "text/plain": [
       "<Quantity 1.39408015e+16 s>"
      ]
     },
     "execution_count": 72,
     "metadata": {},
     "output_type": "execute_result"
    }
   ],
   "source": [
    "Lstar = 10**2.37* u.solLum\n",
    "Mc = 1 * u.solMass\n",
    "E = 0.007 * Mc * const.c**2\n",
    "(E/Lstar).cgs"
   ]
  },
  {
   "cell_type": "code",
   "execution_count": 73,
   "metadata": {},
   "outputs": [
    {
     "data": {
      "text/latex": [
       "$4.4175734 \\times 10^{8} \\; \\mathrm{yr}$"
      ],
      "text/plain": [
       "<Quantity 4.41757341e+08 yr>"
      ]
     },
     "execution_count": 73,
     "metadata": {},
     "output_type": "execute_result"
    }
   ],
   "source": [
    "(E/Lstar).to(u.year)"
   ]
  },
  {
   "cell_type": "code",
   "execution_count": 74,
   "metadata": {},
   "outputs": [
    {
     "data": {
      "text/plain": [
       "8.645183775603543"
      ]
     },
     "execution_count": 74,
     "metadata": {},
     "output_type": "execute_result"
    }
   ],
   "source": [
    "np.log10((E/Lstar).to(u.year).value)"
   ]
  },
  {
   "cell_type": "code",
   "execution_count": 75,
   "metadata": {},
   "outputs": [
    {
     "data": {
      "text/latex": [
       "$8.0220939 \\times 10^{14} \\; \\mathrm{s}$"
      ],
      "text/plain": [
       "<Quantity 8.02209393e+14 s>"
      ]
     },
     "execution_count": 75,
     "metadata": {},
     "output_type": "execute_result"
    }
   ],
   "source": [
    "Lstar = 10**4.61* u.solLum\n",
    "Mc = 10 * u.solMass\n",
    "E = 0.007 * Mc * const.c**2\n",
    "(E/Lstar).cgs"
   ]
  },
  {
   "cell_type": "code",
   "execution_count": 76,
   "metadata": {},
   "outputs": [
    {
     "data": {
      "text/latex": [
       "$25420482 \\; \\mathrm{yr}$"
      ],
      "text/plain": [
       "<Quantity 25420481.68459756 yr>"
      ]
     },
     "execution_count": 76,
     "metadata": {},
     "output_type": "execute_result"
    }
   ],
   "source": [
    "(E/Lstar).to(u.year)"
   ]
  },
  {
   "cell_type": "code",
   "execution_count": 77,
   "metadata": {},
   "outputs": [
    {
     "data": {
      "text/plain": [
       "7.405183775603542"
      ]
     },
     "execution_count": 77,
     "metadata": {},
     "output_type": "execute_result"
    }
   ],
   "source": [
    "np.log10((E/Lstar).to(u.year).value)"
   ]
  },
  {
   "cell_type": "code",
   "execution_count": 83,
   "metadata": {},
   "outputs": [
    {
     "data": {
      "text/plain": [
       "('1.514e+08', '7.762e+06')"
      ]
     },
     "execution_count": 83,
     "metadata": {},
     "output_type": "execute_result"
    }
   ],
   "source": [
    "'{:.3e}'.format(10**8.18), '{:.3e}'.format(10**6.89)"
   ]
  },
  {
   "cell_type": "code",
   "execution_count": null,
   "metadata": {},
   "outputs": [],
   "source": []
  }
 ],
 "metadata": {
  "kernelspec": {
   "display_name": "Python [conda env:astroconda]",
   "language": "python",
   "name": "conda-env-astroconda-py"
  },
  "language_info": {
   "codemirror_mode": {
    "name": "ipython",
    "version": 3
   },
   "file_extension": ".py",
   "mimetype": "text/x-python",
   "name": "python",
   "nbconvert_exporter": "python",
   "pygments_lexer": "ipython3",
   "version": "3.5.5"
  }
 },
 "nbformat": 4,
 "nbformat_minor": 2
}
