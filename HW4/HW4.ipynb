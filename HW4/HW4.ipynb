{
 "cells": [
  {
   "cell_type": "markdown",
   "metadata": {},
   "source": [
    "# ASTR531 HW4\n",
    "\n",
    "### Contents\n",
    "* [19.1](#19.1)\n",
    "* [20.2](#20.2)\n",
    "* [23.1](#23.1)"
   ]
  },
  {
   "cell_type": "code",
   "execution_count": 1,
   "metadata": {},
   "outputs": [],
   "source": [
    "%matplotlib inline\n",
    "%config InlineBackend.figure_format='retina'\n",
    "\n",
    "from astropy.coordinates import Distance\n",
    "from scipy.optimize import leastsq\n",
    "\n",
    "import astropy.units as u\n",
    "import astropy.constants as const\n",
    "import numpy as np\n",
    "import pandas as pd\n",
    "import seaborn as sns\n",
    "sns.set(font_scale=1.2)"
   ]
  },
  {
   "cell_type": "markdown",
   "metadata": {},
   "source": [
    "## 19.2 <a id='19.2'></a>"
   ]
  },
  {
   "cell_type": "code",
   "execution_count": 2,
   "metadata": {},
   "outputs": [
    {
     "data": {
      "text/latex": [
       "$3.9849191 \\; \\mathrm{Myr}$"
      ],
      "text/plain": [
       "<Quantity 3.98491906 Myr>"
      ]
     },
     "execution_count": 2,
     "metadata": {},
     "output_type": "execute_result"
    }
   ],
   "source": [
    "m_start = 0.00184 * u.solMass\n",
    "m_end = 0.00049 * u.solMass\n",
    "luminosity = 10**3.7 * u.solLum\n",
    "\n",
    "((m_start - m_end)*const.c**2 / luminosity).to(u.Myr)"
   ]
  },
  {
   "cell_type": "code",
   "execution_count": 3,
   "metadata": {},
   "outputs": [
    {
     "name": "stdout",
     "output_type": "stream",
     "text": [
      "1.350e+06 yr\n",
      "1.350e+05 yr\n",
      "1.350e+04 yr\n"
     ]
    }
   ],
   "source": [
    "def crossing_time(mass_loss):\n",
    "    mass_loss *= u.solMass/u.yr\n",
    "    #mass_lum = mass_loss*const.c**2\n",
    "    #new_lum = mass_lum - luminosity\n",
    "    #orig_timescale = (m_start - m_end)*const.c**2 / luminosity\n",
    "    #scale_fac = mass_loss*const.c**2 / luminosity\n",
    "    return ((m_start - m_end)/mass_loss).to(u.yr)\n",
    "\n",
    "for m in [1e-9, 1e-8, 1e-7]:\n",
    "    print('{:.3e}'.format(crossing_time(m)))"
   ]
  },
  {
   "cell_type": "markdown",
   "metadata": {},
   "source": [
    "## 20.2 <a id='20.2'></a>"
   ]
  },
  {
   "cell_type": "code",
   "execution_count": 4,
   "metadata": {},
   "outputs": [
    {
     "data": {
      "text/plain": [
       "(0.1435872943746294, 0.08139322365509784)"
      ]
     },
     "execution_count": 4,
     "metadata": {},
     "output_type": "execute_result"
    }
   ],
   "source": [
    "(4/1)**(-7/5), (6/1)**(-7/5)"
   ]
  },
  {
   "cell_type": "markdown",
   "metadata": {},
   "source": [
    "## 23.1 <a id='23.1'></a>"
   ]
  },
  {
   "cell_type": "code",
   "execution_count": 5,
   "metadata": {},
   "outputs": [
    {
     "data": {
      "text/plain": [
       "(<Quantity 1.64609053e-08 solMass / yr>,\n",
       " <Quantity 1.33333333e-06 solMass / yr>)"
      ]
     },
     "execution_count": 5,
     "metadata": {},
     "output_type": "execute_result"
    }
   ],
   "source": [
    "0.2*u.solMass / (12.15e6 * u.yr), 2*u.solMass / (1.5e6 * u.yr)"
   ]
  },
  {
   "cell_type": "code",
   "execution_count": 6,
   "metadata": {},
   "outputs": [
    {
     "name": "stdout",
     "output_type": "stream",
     "text": [
      "664.7424983268016 solRad\n"
     ]
    },
    {
     "data": {
      "text/latex": [
       "$1.1184644 \\times 10^{-6} \\; \\mathrm{\\frac{M_{\\odot}}{yr}}$"
      ],
      "text/plain": [
       "<Quantity 1.11846443e-06 solMass / yr>"
      ]
     },
     "execution_count": 6,
     "metadata": {},
     "output_type": "execute_result"
    }
   ],
   "source": [
    "L = 10**4.8 * u.solLum\n",
    "M = 15 * u.solMass\n",
    "T = 10**3.55 * u.K\n",
    "R = ((L/(4*np.pi*T**4*const.sigma_sb))**(0.5)).to(u.solRad)\n",
    "print(R)\n",
    "reimers = (4e-13 * (L/u.solLum) * (R/u.solRad) * (u.solMass / M)) * u.solMass/u.yr\n",
    "reimers"
   ]
  },
  {
   "cell_type": "code",
   "execution_count": null,
   "metadata": {},
   "outputs": [],
   "source": []
  }
 ],
 "metadata": {
  "kernelspec": {
   "display_name": "Python [conda env:astroconda]",
   "language": "python",
   "name": "conda-env-astroconda-py"
  },
  "language_info": {
   "codemirror_mode": {
    "name": "ipython",
    "version": 3
   },
   "file_extension": ".py",
   "mimetype": "text/x-python",
   "name": "python",
   "nbconvert_exporter": "python",
   "pygments_lexer": "ipython3",
   "version": "3.5.5"
  }
 },
 "nbformat": 4,
 "nbformat_minor": 2
}
