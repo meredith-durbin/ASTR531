{
 "cells": [
  {
   "cell_type": "markdown",
   "metadata": {},
   "source": [
    "# ASTR531 HW4\n",
    "\n",
    "### Contents\n",
    "* [25.4](#25.4)\n",
    "* [28.1](#28.1)"
   ]
  },
  {
   "cell_type": "code",
   "execution_count": 1,
   "metadata": {},
   "outputs": [],
   "source": [
    "%matplotlib inline\n",
    "%config InlineBackend.figure_format='retina'\n",
    "\n",
    "from astropy.coordinates import Distance\n",
    "from scipy.optimize import leastsq\n",
    "\n",
    "import astropy.units as u\n",
    "import astropy.constants as const\n",
    "import numpy as np\n",
    "import pandas as pd\n",
    "import seaborn as sns\n",
    "sns.set(font_scale=1.2)"
   ]
  },
  {
   "cell_type": "markdown",
   "metadata": {},
   "source": [
    "## 25.4 <a id='25.4'></a>"
   ]
  },
  {
   "cell_type": "code",
   "execution_count": 2,
   "metadata": {},
   "outputs": [
    {
     "data": {
      "text/plain": [
       "(<Quantity 338.31436654 km / s>, <Quantity 302.59756854 km / s>)"
      ]
     },
     "execution_count": 2,
     "metadata": {},
     "output_type": "execute_result"
    }
   ],
   "source": [
    "m0 = 30*u.solMass\n",
    "m1 = 0.8*m0\n",
    "r = 50*u.solRad\n",
    "vrot = 200*u.km/u.s\n",
    "vcrit0 = ((const.G * m0 / r)**0.5).to(u.km/u.s)\n",
    "vcrit1 = ((const.G * m1 / r)**0.5).to(u.km/u.s)\n",
    "vcrit0, vcrit1"
   ]
  },
  {
   "cell_type": "markdown",
   "metadata": {},
   "source": [
    "## 28.1 <a id='28.1'></a>"
   ]
  },
  {
   "cell_type": "code",
   "execution_count": 4,
   "metadata": {},
   "outputs": [
    {
     "data": {
      "text/latex": [
       "$40.250734 \\; \\mathrm{R_{\\odot}}$"
      ],
      "text/plain": [
       "<Quantity 40.25073437 solRad>"
      ]
     },
     "execution_count": 4,
     "metadata": {},
     "output_type": "execute_result"
    }
   ],
   "source": [
    "# minimum orbit when stars have equal mass\n",
    "m1 = 25*u.solMass\n",
    "m2 = 10*u.solMass\n",
    "pi = 5*u.day\n",
    "ai = ((const.G * (m1 + m2)/(4*np.pi**2))*pi**2)**(1/3)\n",
    "ai.to(u.solRad)"
   ]
  },
  {
   "cell_type": "code",
   "execution_count": 15,
   "metadata": {},
   "outputs": [
    {
     "data": {
      "text/latex": [
       "$18.510239 \\; \\mathrm{R_{\\odot}}$"
      ],
      "text/plain": [
       "<Quantity 18.51023939 solRad>"
      ]
     },
     "execution_count": 15,
     "metadata": {},
     "output_type": "execute_result"
    }
   ],
   "source": [
    "x = m1/m2\n",
    "r_l1 = (0.49*x**(2/3) / ( 0.6*x**(2/3) + np.log(1 + x**(1/3)) ) * ai).to(u.solRad)\n",
    "r_l1"
   ]
  },
  {
   "cell_type": "code",
   "execution_count": 19,
   "metadata": {},
   "outputs": [
    {
     "data": {
      "text/latex": [
       "$18.098953 \\; \\mathrm{R_{\\odot}}$"
      ],
      "text/plain": [
       "<Quantity 18.0989527 solRad>"
      ]
     },
     "execution_count": 19,
     "metadata": {},
     "output_type": "execute_result"
    }
   ],
   "source": [
    "L1 = 10**5.19 * u.solLum\n",
    "T1 = 10**4.43 * u.K\n",
    "r_tams = ( (L1/(4*np.pi*const.sigma_sb*T1**4))**0.5 ).to(u.solRad)\n",
    "r_tams"
   ]
  },
  {
   "cell_type": "code",
   "execution_count": 10,
   "metadata": {},
   "outputs": [
    {
     "data": {
      "text/plain": [
       "(<Quantity 26.82264681 solRad>, <Quantity 2.71995512 d>)"
      ]
     },
     "execution_count": 10,
     "metadata": {},
     "output_type": "execute_result"
    }
   ],
   "source": [
    "m_avg = (m1+m2)/2.\n",
    "am = ( ((m1*m2/m_avg**2)**2)*ai ).to(u.solRad)\n",
    "pm = ( ((m1*m2/m_avg**2)**3)*pi ).to(u.day)\n",
    "am,pm"
   ]
  },
  {
   "cell_type": "code",
   "execution_count": 11,
   "metadata": {},
   "outputs": [
    {
     "data": {
      "text/plain": [
       "(<Quantity 40.25073437 solRad>, <Quantity 5. d>)"
      ]
     },
     "execution_count": 11,
     "metadata": {},
     "output_type": "execute_result"
    }
   ],
   "source": [
    "af = ( ((m_avg**2/(m1*m2))**2)*am ).to(u.solRad)\n",
    "pf = ( ((m_avg**2/(m1*m2))**3)*pm ).to(u.day)\n",
    "af,pf"
   ]
  },
  {
   "cell_type": "code",
   "execution_count": null,
   "metadata": {},
   "outputs": [],
   "source": []
  }
 ],
 "metadata": {
  "kernelspec": {
   "display_name": "Python [conda env:astroconda]",
   "language": "python",
   "name": "conda-env-astroconda-py"
  },
  "language_info": {
   "codemirror_mode": {
    "name": "ipython",
    "version": 3
   },
   "file_extension": ".py",
   "mimetype": "text/x-python",
   "name": "python",
   "nbconvert_exporter": "python",
   "pygments_lexer": "ipython3",
   "version": "3.5.5"
  }
 },
 "nbformat": 4,
 "nbformat_minor": 2
}
