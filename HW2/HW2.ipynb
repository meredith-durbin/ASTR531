{
 "cells": [
  {
   "cell_type": "markdown",
   "metadata": {},
   "source": [
    "# ASTR531 HW2\n",
    "\n",
    "### Contents\n",
    "* [9.1](#9.1)\n",
    "* [11.2](#11.2)\n",
    "* [12.2](#12.2)\n",
    "* [13.2](#13.2)"
   ]
  },
  {
   "cell_type": "code",
   "execution_count": 1,
   "metadata": {},
   "outputs": [],
   "source": [
    "%matplotlib inline\n",
    "%config InlineBackend.figure_format='retina'\n",
    "\n",
    "from astropy.coordinates import Distance\n",
    "from scipy.optimize import leastsq\n",
    "\n",
    "import astropy.units as u\n",
    "import astropy.constants as const\n",
    "import numpy as np\n",
    "import pandas as pd\n",
    "import seaborn as sns\n",
    "sns.set(font_scale=1.2)"
   ]
  },
  {
   "cell_type": "markdown",
   "metadata": {},
   "source": [
    "## 9.1 <a id='9.1'></a>"
   ]
  },
  {
   "cell_type": "code",
   "execution_count": 2,
   "metadata": {},
   "outputs": [],
   "source": [
    "def tdyn(M, R):\n",
    "    rho = 3*M/(4*np.pi*R**3)\n",
    "    return ((const.G*rho)**-0.5).to(u.hour)\n",
    "\n",
    "def tkh(M, R, L):\n",
    "    return (const.G*M**2/(R*L)).to(u.year)\n",
    "\n",
    "def tnuc(M, L):\n",
    "    return ((M/u.solMass)/(L/u.solLum)).decompose() * 1e10 * u.yr\n",
    "\n",
    "def calc_timescales(M, R, L):\n",
    "    print('For a star with mass {:.1f}, radius {:.2f}, and luminosity {:.3e}:'.format(M,R,L))\n",
    "    print( 'Dynamical timescale : {:.3f}'.format(tdyn(M,R)) )\n",
    "    print( 'Thermal timescale   : {:.3e}'.format(tkh(M,R,L)) )\n",
    "    print( 'Nuclear timescale   : {:.3e}'.format(tnuc(M,L)) )\n",
    "    print('-----')"
   ]
  },
  {
   "cell_type": "code",
   "execution_count": 3,
   "metadata": {},
   "outputs": [
    {
     "name": "stdout",
     "output_type": "stream",
     "text": [
      "For a star with mass 1.0 solMass, radius 1.00 solRad, and luminosity 1.000e+00 solLum:\n",
      "Dynamical timescale : 0.906 h\n",
      "Thermal timescale   : 3.140e+07 yr\n",
      "Nuclear timescale   : 1.000e+10 yr\n",
      "-----\n",
      "For a star with mass 60.0 solMass, radius 15.00 solRad, and luminosity 7.943e+05 solLum:\n",
      "Dynamical timescale : 6.792 h\n",
      "Thermal timescale   : 9.487e+03 yr\n",
      "Nuclear timescale   : 7.554e+05 yr\n",
      "-----\n",
      "For a star with mass 15.0 solMass, radius 3300.00 solRad, and luminosity 4.467e+05 solLum:\n",
      "Dynamical timescale : 44324.544 h\n",
      "Thermal timescale   : 4.793e+00 yr\n",
      "Nuclear timescale   : 3.358e+05 yr\n",
      "-----\n",
      "For a star with mass 0.6 solMass, radius 0.01 solRad, and luminosity 1.000e-02 solLum:\n",
      "Dynamical timescale : 0.002 h\n",
      "Thermal timescale   : 7.945e+10 yr\n",
      "Nuclear timescale   : 6.000e+11 yr\n",
      "-----\n"
     ]
    }
   ],
   "source": [
    "R_wd = 0.012 * 0.6**(-1/3)\n",
    "\n",
    "params = [(1*u.solMass,   1*u.solRad,    1*u.solLum),\n",
    "          (60*u.solMass,  15*u.solRad,   10**5.9*u.solLum),\n",
    "          (15*u.solMass,  3300*u.solRad, 10**5.65*u.solLum),\n",
    "          (0.6*u.solMass, R_wd*u.solRad, 1e-2*u.solLum)]\n",
    "\n",
    "for (M, R, L) in params:\n",
    "    calc_timescales(M,R,L)"
   ]
  },
  {
   "cell_type": "markdown",
   "metadata": {},
   "source": [
    "## 11.2 <a id='11.2'></a>"
   ]
  },
  {
   "cell_type": "code",
   "execution_count": 4,
   "metadata": {},
   "outputs": [],
   "source": [
    "def find_beta(B, M0=1):\n",
    "    M = 18.2 * (1-B)**0.5 / (B*0.6)**2\n",
    "    return M0 - M"
   ]
  },
  {
   "cell_type": "code",
   "execution_count": 5,
   "metadata": {},
   "outputs": [
    {
     "name": "stderr",
     "output_type": "stream",
     "text": [
      "/Users/luxemburg/anaconda3/envs/astroconda/lib/python3.5/site-packages/ipykernel/__main__.py:2: RuntimeWarning: invalid value encountered in sqrt\n",
      "  from ipykernel import kernelapp as app\n"
     ]
    },
    {
     "data": {
      "text/plain": [
       "(0.9996093539194961, 0.6867325537487247)"
      ]
     },
     "execution_count": 5,
     "metadata": {},
     "output_type": "execute_result"
    }
   ],
   "source": [
    "B_m1 = leastsq(find_beta, 0.9, args=1)[0][0]\n",
    "B_m60 = leastsq(find_beta, 0.9, args=60)[0][0]\n",
    "B_m1, B_m60"
   ]
  },
  {
   "cell_type": "code",
   "execution_count": 6,
   "metadata": {},
   "outputs": [
    {
     "data": {
      "text/plain": [
       "(0.00039079874450168126, 0.456170957006794)"
      ]
     },
     "execution_count": 6,
     "metadata": {},
     "output_type": "execute_result"
    }
   ],
   "source": [
    "Prad_Pgas_m1 = (1-B_m1)/B_m1\n",
    "Prad_Pgas_m60 = (1-B_m60)/B_m60\n",
    "Prad_Pgas_m1, Prad_Pgas_m60"
   ]
  },
  {
   "cell_type": "code",
   "execution_count": 7,
   "metadata": {},
   "outputs": [],
   "source": [
    "def find_lum(M, B):\n",
    "    Ledd = 3.8e4 * M * u.solLum\n",
    "    return (1-B)*Ledd"
   ]
  },
  {
   "cell_type": "code",
   "execution_count": 8,
   "metadata": {},
   "outputs": [
    {
     "data": {
      "text/plain": [
       "(<Quantity 14.84455106 solLum>, 1.17156706784764)"
      ]
     },
     "execution_count": 8,
     "metadata": {},
     "output_type": "execute_result"
    }
   ],
   "source": [
    "L_m1 = find_lum(1, B_m1)\n",
    "L_m1, np.log10(L_m1.value)"
   ]
  },
  {
   "cell_type": "code",
   "execution_count": 9,
   "metadata": {},
   "outputs": [
    {
     "data": {
      "text/plain": [
       "(<Quantity 714249.77745291 solLum>, 5.8538501137366294)"
      ]
     },
     "execution_count": 9,
     "metadata": {},
     "output_type": "execute_result"
    }
   ],
   "source": [
    "L_m60 = find_lum(60, B_m60)\n",
    "L_m60, np.log10(L_m60.value)"
   ]
  },
  {
   "cell_type": "markdown",
   "metadata": {},
   "source": [
    "## 12.2 <a id='12.2'></a>"
   ]
  },
  {
   "cell_type": "code",
   "execution_count": 10,
   "metadata": {},
   "outputs": [],
   "source": [
    "def R_start(M):\n",
    "    return 100.*M * u.solRad\n",
    "\n",
    "def R_end(M):\n",
    "    return R_start(M) / 50.\n",
    "\n",
    "def R_ms(M):\n",
    "    return M**0.7 * u.solRad\n",
    "\n",
    "def calc_radii(M):\n",
    "    print('For a star with mass {:.1f} solMass:'.format(M))\n",
    "    print( 'R at start of Hayashi track : {:.1f}'.format(R_start(M)) )\n",
    "    print( 'R at end of Hayashi track   : {:.1f}'.format(R_end(M)) )\n",
    "    print( 'R at end of PMS contraction : {:.1f}'.format(R_ms(M)) )\n",
    "    print('-----')"
   ]
  },
  {
   "cell_type": "code",
   "execution_count": 11,
   "metadata": {},
   "outputs": [
    {
     "name": "stdout",
     "output_type": "stream",
     "text": [
      "For a star with mass 0.1 solMass:\n",
      "R at start of Hayashi track : 10.0 solRad\n",
      "R at end of Hayashi track   : 0.2 solRad\n",
      "R at end of PMS contraction : 0.2 solRad\n",
      "-----\n",
      "For a star with mass 1.0 solMass:\n",
      "R at start of Hayashi track : 100.0 solRad\n",
      "R at end of Hayashi track   : 2.0 solRad\n",
      "R at end of PMS contraction : 1.0 solRad\n",
      "-----\n",
      "For a star with mass 10.0 solMass:\n",
      "R at start of Hayashi track : 1000.0 solRad\n",
      "R at end of Hayashi track   : 20.0 solRad\n",
      "R at end of PMS contraction : 5.0 solRad\n",
      "-----\n",
      "For a star with mass 100.0 solMass:\n",
      "R at start of Hayashi track : 10000.0 solRad\n",
      "R at end of Hayashi track   : 200.0 solRad\n",
      "R at end of PMS contraction : 25.1 solRad\n",
      "-----\n"
     ]
    }
   ],
   "source": [
    "for m in [0.1, 1, 10, 100]:\n",
    "    calc_radii(m)"
   ]
  },
  {
   "cell_type": "code",
   "execution_count": 12,
   "metadata": {},
   "outputs": [],
   "source": [
    "def t_hayashi(M):\n",
    "    return M**-1 * 1e6 * u.yr\n",
    "    \n",
    "def t_pms(M):\n",
    "    return 6e7 * M**-2.5 * u.yr\n",
    "\n",
    "def calc_pms_timescales(M):\n",
    "    print('For a star with mass {:.1f} solMass:'.format(M))\n",
    "    print( 'Hayashi timescale : {:.3e}'.format(t_hayashi(M)) )\n",
    "    print( 'PMS timescale     : {:.3e}'.format(t_pms(M)) )\n",
    "    print('-----')"
   ]
  },
  {
   "cell_type": "code",
   "execution_count": 13,
   "metadata": {},
   "outputs": [
    {
     "name": "stdout",
     "output_type": "stream",
     "text": [
      "For a star with mass 0.1 solMass:\n",
      "Hayashi timescale : 1.000e+07 yr\n",
      "PMS timescale     : 1.897e+10 yr\n",
      "-----\n",
      "For a star with mass 1.0 solMass:\n",
      "Hayashi timescale : 1.000e+06 yr\n",
      "PMS timescale     : 6.000e+07 yr\n",
      "-----\n",
      "For a star with mass 10.0 solMass:\n",
      "Hayashi timescale : 1.000e+05 yr\n",
      "PMS timescale     : 1.897e+05 yr\n",
      "-----\n",
      "For a star with mass 100.0 solMass:\n",
      "Hayashi timescale : 1.000e+04 yr\n",
      "PMS timescale     : 6.000e+02 yr\n",
      "-----\n"
     ]
    }
   ],
   "source": [
    "for m in [0.1, 1, 10, 100]:\n",
    "    calc_pms_timescales(m)"
   ]
  },
  {
   "cell_type": "markdown",
   "metadata": {},
   "source": [
    "## 13.2 <a id='13.2'></a>"
   ]
  },
  {
   "cell_type": "code",
   "execution_count": 14,
   "metadata": {},
   "outputs": [
    {
     "data": {
      "text/plain": [
       "(2.278008337654002, 1.1150752308988323, 1.2333593115878574)"
      ]
     },
     "execution_count": 14,
     "metadata": {},
     "output_type": "execute_result"
    }
   ],
   "source": [
    "X0, Y0 = 0.70, 0.28\n",
    "X1, Y1 = 0.49, 0.49\n",
    "mu0 = (2-1.25*Y0)**-1\n",
    "mu1 = (2-1.25*Y1)**-1\n",
    "dL = ( ((2-Y1)**-1) * mu1**4 ) / ( ((2-Y0)**-1) * mu0**4 )\n",
    "dR = ( mu1**(2/3) * (1+X1)**0.05 ) / ( mu0**(2/3) * (1+X0)**0.05 ) \n",
    "dT = ( mu1**0.83 * (1+X1)**-0.5 ) / ( mu0**0.83 * (1+X0)**-0.5 ) \n",
    "dL, dR, dT"
   ]
  },
  {
   "cell_type": "code",
   "execution_count": null,
   "metadata": {},
   "outputs": [],
   "source": []
  }
 ],
 "metadata": {
  "kernelspec": {
   "display_name": "Python [conda env:astroconda]",
   "language": "python",
   "name": "conda-env-astroconda-py"
  },
  "language_info": {
   "codemirror_mode": {
    "name": "ipython",
    "version": 3
   },
   "file_extension": ".py",
   "mimetype": "text/x-python",
   "name": "python",
   "nbconvert_exporter": "python",
   "pygments_lexer": "ipython3",
   "version": "3.5.5"
  }
 },
 "nbformat": 4,
 "nbformat_minor": 2
}
