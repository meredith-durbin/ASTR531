{
 "cells": [
  {
   "cell_type": "markdown",
   "metadata": {},
   "source": [
    "# ASTR531 HW3\n",
    "\n",
    "### Contents\n",
    "* [15.1](#15.1)\n",
    "* [17.2](#17.2)\n",
    "* [18.1](#18.1)"
   ]
  },
  {
   "cell_type": "code",
   "execution_count": 1,
   "metadata": {},
   "outputs": [],
   "source": [
    "%matplotlib inline\n",
    "%config InlineBackend.figure_format='retina'\n",
    "\n",
    "from astropy.coordinates import Distance\n",
    "from scipy.optimize import leastsq\n",
    "\n",
    "import astropy.units as u\n",
    "import astropy.constants as const\n",
    "import numpy as np\n",
    "import pandas as pd\n",
    "import seaborn as sns\n",
    "sns.set(font_scale=1.2)"
   ]
  },
  {
   "cell_type": "markdown",
   "metadata": {},
   "source": [
    "## 15.1 <a id='15.1'></a>"
   ]
  },
  {
   "cell_type": "code",
   "execution_count": 2,
   "metadata": {},
   "outputs": [
    {
     "data": {
      "text/latex": [
       "$[0.35893003,~0.66717801,~1.1583301,~1.4683236] \\; \\mathrm{}$"
      ],
      "text/plain": [
       "<Quantity [0.35893003, 0.66717801, 1.15833011, 1.46832356]>"
      ]
     },
     "execution_count": 2,
     "metadata": {},
     "output_type": "execute_result"
    }
   ],
   "source": [
    "masses = np.array([30,50,80,100])*u.solMass\n",
    "radii = np.array([7,9.3,12.4,14.6])*u.solRad\n",
    "v_esc = np.sqrt(2*const.G*masses/radii)\n",
    "v_inf = 2.6 * v_esc\n",
    "luminosities = 10**np.array([5.15,5.58,5.97,6.16])*u.solLum\n",
    "photon_momentum = luminosities/const.c\n",
    "m_dot = 10**np.array([-6.51,-5.86,-5.27,-4.99])*u.solMass/u.yr\n",
    "massloss_flux = m_dot * v_inf\n",
    "(massloss_flux/photon_momentum).decompose()"
   ]
  },
  {
   "cell_type": "code",
   "execution_count": 3,
   "metadata": {},
   "outputs": [
    {
     "data": {
      "text/latex": [
       "$[0.0019902328,~0.0041435035,~0.0078804126,~0.010292664] \\; \\mathrm{}$"
      ],
      "text/plain": [
       "<Quantity [0.00199023, 0.0041435 , 0.00788041, 0.01029266]>"
      ]
     },
     "execution_count": 3,
     "metadata": {},
     "output_type": "execute_result"
    }
   ],
   "source": [
    "massloss_energy = 0.5 * m_dot * v_inf**2\n",
    "(massloss_energy / luminosities).decompose()"
   ]
  },
  {
   "cell_type": "code",
   "execution_count": 4,
   "metadata": {},
   "outputs": [
    {
     "data": {
      "text/latex": [
       "$[1.8858131 \\times 10^{-7},~3.4778127 \\times 10^{-7},~5.974985 \\times 10^{-7},~7.5573796 \\times 10^{-7}] \\; \\mathrm{}$"
      ],
      "text/plain": [
       "<Quantity [1.88581308e-07, 3.47781271e-07, 5.97498504e-07, 7.55737960e-07]>"
      ]
     },
     "execution_count": 4,
     "metadata": {},
     "output_type": "execute_result"
    }
   ],
   "source": [
    "teff = ((luminosities/(4*np.pi*const.sigma_sb*radii**2))**(1/4)).to(u.K)\n",
    "n = m_dot / const.m_p\n",
    "thermal_energy = 1.5*n*const.k_B*teff\n",
    "(thermal_energy/luminosities).decompose()"
   ]
  },
  {
   "cell_type": "markdown",
   "metadata": {},
   "source": [
    "## 17.2 <a id='17.2'></a>"
   ]
  },
  {
   "cell_type": "code",
   "execution_count": 5,
   "metadata": {},
   "outputs": [
    {
     "data": {
      "text/plain": [
       "(<Quantity 2.32329835e+50 erg>, <Quantity 1.2510068e+51 erg>)"
      ]
     },
     "execution_count": 5,
     "metadata": {},
     "output_type": "execute_result"
    }
   ],
   "source": [
    "helium_energy = (0.00065 * 0.2 * u.solMass * const.c**2).to(u.erg)\n",
    "hydrogen_energy = (0.007 * 0.1 * u.solMass * const.c**2).to(u.erg)\n",
    "helium_energy, hydrogen_energy"
   ]
  },
  {
   "cell_type": "code",
   "execution_count": 6,
   "metadata": {},
   "outputs": [
    {
     "data": {
      "text/plain": [
       "(<Quantity 0.84337349>, <Quantity 0.15662651>)"
      ]
     },
     "execution_count": 6,
     "metadata": {},
     "output_type": "execute_result"
    }
   ],
   "source": [
    "energy_total = helium_energy + hydrogen_energy\n",
    "he_frac = helium_energy/energy_total\n",
    "h_frac = hydrogen_energy/energy_total\n",
    "h_frac, he_frac"
   ]
  },
  {
   "cell_type": "code",
   "execution_count": 7,
   "metadata": {},
   "outputs": [],
   "source": [
    "actual_luminosity = 100*u.solLum\n",
    "actual_duraction = 120 * u.Myr"
   ]
  },
  {
   "cell_type": "code",
   "execution_count": 8,
   "metadata": {},
   "outputs": [
    {
     "data": {
      "text/latex": [
       "$122.79023 \\; \\mathrm{}$"
      ],
      "text/plain": [
       "<Quantity 122.79023427>"
      ]
     },
     "execution_count": 8,
     "metadata": {},
     "output_type": "execute_result"
    }
   ],
   "source": [
    "((energy_total / (1e8*u.yr))/(u.solLum)).decompose()"
   ]
  },
  {
   "cell_type": "markdown",
   "metadata": {},
   "source": [
    "## 18.1 <a id='18.1'></a>"
   ]
  },
  {
   "cell_type": "code",
   "execution_count": 9,
   "metadata": {},
   "outputs": [
    {
     "data": {
      "text/plain": [
       "(<Quantity 31.6227766>,\n",
       " <Quantity 0.02599806 solMass>,\n",
       " <Quantity 0.07634072 solMass>)"
      ]
     },
     "execution_count": 9,
     "metadata": {},
     "output_type": "execute_result"
    }
   ],
   "source": [
    "l_He = 1e2*u.solLum\n",
    "l_H = 10**(3.5)*u.solLum\n",
    "l_H/l_He\n",
    "tpagb_time = 2.5*u.Myr\n",
    "m_He_fused = (l_He * tpagb_time / (const.c**2 * 0.00065)).to(u.solMass)\n",
    "m_H_fused = (l_H * tpagb_time / (const.c**2 * 0.007)).to(u.solMass)\n",
    "l_H/l_He, m_He_fused, m_H_fused"
   ]
  },
  {
   "cell_type": "code",
   "execution_count": null,
   "metadata": {},
   "outputs": [],
   "source": []
  }
 ],
 "metadata": {
  "kernelspec": {
   "display_name": "Python [conda env:astroconda]",
   "language": "python",
   "name": "conda-env-astroconda-py"
  },
  "language_info": {
   "codemirror_mode": {
    "name": "ipython",
    "version": 3
   },
   "file_extension": ".py",
   "mimetype": "text/x-python",
   "name": "python",
   "nbconvert_exporter": "python",
   "pygments_lexer": "ipython3",
   "version": "3.5.5"
  }
 },
 "nbformat": 4,
 "nbformat_minor": 2
}
